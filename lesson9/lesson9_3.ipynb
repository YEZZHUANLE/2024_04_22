class Student():
    def __init__(self,n:str,c:int,e:int,m:int):
        super().__init__()
        self.name = n
        self.chinese = c
        self.english = e
        self.math = m

    def __repr__(self) -> str:
        massage = f"您的姓名是:{self.name}\n"
        massage += f"國文:{self.chinese}\n"
        massage += f"英文:{self.english}\n"
        massage += f"數學:{self.math}\n"
        return massage
    
    @property
    def sum(self):
        return self.chinese + self.english + self.math
    
    def average(self)->float:
        return self.sum / 3
