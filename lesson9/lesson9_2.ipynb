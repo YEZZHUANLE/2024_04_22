{
 "cells": [
  {
   "cell_type": "code",
   "execution_count": 1,
   "metadata": {},
   "outputs": [],
   "source": [
    "class Student():\n",
    "    def __init__(self,n:str,c:int,e:int,m:int):\n",
    "        super().__init__()\n",
    "        self.name = n\n",
    "        self.chinese = c\n",
    "        self.english = e\n",
    "        self.math = m\n",
    "\n",
    "    def __repr__(self) -> str:\n",
    "        massage = f\"您的姓名是:{self.name}\\n\"\n",
    "        massage += f\"國文:{self.chinese}\\n\"\n",
    "        massage += f\"英文:{self.english}\\n\"\n",
    "        massage += f\"數學:{self.math}\\n\"\n",
    "        return massage\n",
    "    \n",
    "    @property\n",
    "    def sum(self):\n",
    "        return self.chinese + self.english + self.math\n",
    "    \n",
    "    def average(self)->float:\n",
    "        return self.sum / 3\n"
   ]
  },
  {
   "cell_type": "code",
   "execution_count": 3,
   "metadata": {},
   "outputs": [
    {
     "name": "stdout",
     "output_type": "stream",
     "text": [
      "您的姓名是:徐國堂\n",
      "國文:86\n",
      "英文:92\n",
      "數學:76\n",
      "\n",
      "總分為:254\n",
      "平均為:84.67\n",
      "=========\n",
      "您的姓名是:徐國\n",
      "國文:77\n",
      "英文:80\n",
      "數學:66\n",
      "\n",
      "總分為:223\n",
      "平均為:74.33\n"
     ]
    }
   ],
   "source": [
    "s1 = Student(n=\"徐國堂\",c=86,e=92,m=76)\n",
    "print(s1)\n",
    "print(f\"總分為:{s1.sum}\")\n",
    "print(f\"平均為:{s1.average():.2f}\")\n",
    "print(\"=========\")\n",
    "s2 = Student(n=\"徐國\",c=77,e=80,m=66)\n",
    "print(s2)\n",
    "print(f\"總分為:{s2.sum}\")\n",
    "print(f\"平均為:{s2.average():.2f}\")"
   ]
  }
 ],
 "metadata": {
  "kernelspec": {
   "display_name": "Python 3",
   "language": "python",
   "name": "python3"
  },
  "language_info": {
   "codemirror_mode": {
    "name": "ipython",
    "version": 3
   },
   "file_extension": ".py",
   "mimetype": "text/x-python",
   "name": "python",
   "nbconvert_exporter": "python",
   "pygments_lexer": "ipython3",
   "version": "3.10.14"
  }
 },
 "nbformat": 4,
 "nbformat_minor": 2
}
