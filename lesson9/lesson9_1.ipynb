{
 "cells": [
  {
   "cell_type": "code",
   "execution_count": 2,
   "metadata": {},
   "outputs": [
    {
     "name": "stdout",
     "output_type": "stream",
     "text": [
      "p1的name:夜夜夜\n",
      "我是Person的實體,我的名子夜夜夜\n",
      "p2的name:夜葉夜\n",
      "我是Person的實體,我的名子夜葉夜\n"
     ]
    }
   ],
   "source": [
    "class Person():\n",
    "    def __init__(self,n:str):\n",
    "        super().__init__()\n",
    "        self.name = n\n",
    "\n",
    "    def __repr__(self) -> str:\n",
    "        return f\"我是Person的實體,我的名子{self.name}\"\n",
    "\n",
    "p1 = Person(\"夜夜夜\")\n",
    "print(f\"p1的name:{p1.name}\")\n",
    "print(p1)\n",
    "\n",
    "p2 = Person(\"夜葉夜\")\n",
    "print(f\"p2的name:{p2.name}\")\n",
    "print(p2)"
   ]
  },
  {
   "cell_type": "code",
   "execution_count": 19,
   "metadata": {},
   "outputs": [],
   "source": [
    "class Person():\n",
    "    def __init__(self,n:str):\n",
    "        super().__init__()\n",
    "        self.name = n\n",
    "\n",
    "    def __repr__(self) -> str:\n",
    "        return f\"我是Person的實體,我的名子{self.name}\"\n",
    "\n",
    "class Student(Person):\n",
    "    def __init__(self,n:str,s:int):\n",
    "        super().__init__(n)\n",
    "        self.scores = s\n",
    "    \n",
    "    def __repr__(self) -> str:\n",
    "        before = super().__repr__()\n",
    "        return f\"{before},分數是{self.scores}\""
   ]
  },
  {
   "cell_type": "code",
   "execution_count": 21,
   "metadata": {},
   "outputs": [
    {
     "name": "stdout",
     "output_type": "stream",
     "text": [
      "徐國堂 270\n",
      "我是Person的實體,我的名子徐國堂,分數是270\n",
      "葉俊甫 300\n",
      "我是Person的實體,我的名子葉俊甫,分數是300\n"
     ]
    }
   ],
   "source": [
    "s1 =Student(\"徐國堂\",270)\n",
    "print(s1.name, s1.scores)\n",
    "print(s1)\n",
    "\n",
    "s2 =Student(\"葉俊甫\",300)\n",
    "print(s2.name, s2.scores)\n",
    "print(s2)"
   ]
  },
  {
   "cell_type": "code",
   "execution_count": null,
   "metadata": {},
   "outputs": [],
   "source": []
  }
 ],
 "metadata": {
  "kernelspec": {
   "display_name": "Python 3",
   "language": "python",
   "name": "python3"
  },
  "language_info": {
   "codemirror_mode": {
    "name": "ipython",
    "version": 3
   },
   "file_extension": ".py",
   "mimetype": "text/x-python",
   "name": "python",
   "nbconvert_exporter": "python",
   "pygments_lexer": "ipython3",
   "version": "3.10.14"
  }
 },
 "nbformat": 4,
 "nbformat_minor": 2
}
