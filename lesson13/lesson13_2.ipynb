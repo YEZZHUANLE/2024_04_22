{
 "cells": [
  {
   "cell_type": "code",
   "execution_count": null,
   "metadata": {},
   "outputs": [],
   "source": [
    "import re\n",
    "phone_num = input(\"請輸入手機號碼xxxx-xxx-xxx:\")\n",
    "phoneNumRegex:re.Pattern = re.compile(r'(\\(\\d\\d\\d\\d\\)|\\d\\d\\d\\d)-(\\d\\d\\d)-(\\d\\d\\d)')\n",
    "match1:re.Match | None = re.match(phoneNumRegex,phone_num)\n",
    "if match1 is not None:\n",
    "    print(f\"{match1.group()}格式符合\")\n",
    "    print(f\"{match1.group(0)}-group(0)\")\n",
    "    print(f\"{match1.group(1)}-group(1)\")\n",
    "    print(f\"{match1.group(2)}-group(2)\")\n",
    "    print(f\"{match1.group(3)}-group(3)\")\n",
    "else:\n",
    "    print(\"格式不符合\")"
   ]
  },
  {
   "cell_type": "code",
   "execution_count": 27,
   "metadata": {},
   "outputs": [
    {
     "name": "stdout",
     "output_type": "stream",
     "text": [
      "Tina Fey\n"
     ]
    }
   ],
   "source": [
    "heroRegex:re.Pattern = re.compile(r'Batman|Tina Fey')\n",
    "match1:re.Match | None = heroRegex.match('Tina Fey and Batman')\n",
    "if match1 is not None:\n",
    "    print(match1.group())\n",
    "else:\n",
    "    print(\"格式不符\")"
   ]
  },
  {
   "cell_type": "code",
   "execution_count": 26,
   "metadata": {},
   "outputs": [
    {
     "name": "stdout",
     "output_type": "stream",
     "text": [
      "Batbat\n",
      "bat\n"
     ]
    }
   ],
   "source": [
    "heroRegex:re.Pattern = re.compile(r'Bat(man|molile|copter|bat)')\n",
    "match1:re.Match | None = heroRegex.search('lost a wheel Batbat')\n",
    "if match1 is not None:\n",
    "    print(match1.group())\n",
    "    print(match1.group(1))\n",
    "else:\n",
    "    print(\"格式不符\")"
   ]
  }
 ],
 "metadata": {
  "kernelspec": {
   "display_name": "Python 3",
   "language": "python",
   "name": "python3"
  },
  "language_info": {
   "codemirror_mode": {
    "name": "ipython",
    "version": 3
   },
   "file_extension": ".py",
   "mimetype": "text/x-python",
   "name": "python",
   "nbconvert_exporter": "python",
   "pygments_lexer": "ipython3",
   "version": "3.10.14"
  }
 },
 "nbformat": 4,
 "nbformat_minor": 2
}
