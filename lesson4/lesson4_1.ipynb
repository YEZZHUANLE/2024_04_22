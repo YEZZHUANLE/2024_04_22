{
 "cells": [
  {
   "cell_type": "code",
   "execution_count": 5,
   "metadata": {},
   "outputs": [
    {
     "name": "stdout",
     "output_type": "stream",
     "text": [
      "3\n",
      "3.14\n"
     ]
    }
   ],
   "source": [
    "print(round(3.1415926))\n",
    "print(round(3.1415926,ndigits=2))\n"
   ]
  },
  {
   "cell_type": "code",
   "execution_count": 7,
   "metadata": {},
   "outputs": [
    {
     "data": {
      "text/plain": [
       "3"
      ]
     },
     "execution_count": 7,
     "metadata": {},
     "output_type": "execute_result"
    }
   ],
   "source": [
    "import math\n",
    "math.ceil(3.1415926)\n",
    "math.floor(3.1415926)"
   ]
  },
  {
   "cell_type": "code",
   "execution_count": 10,
   "metadata": {},
   "outputs": [
    {
     "name": "stdout",
     "output_type": "stream",
     "text": [
      "50\n"
     ]
    }
   ],
   "source": [
    "n =10\n",
    "n*=5\n",
    "print(n)"
   ]
  },
  {
   "cell_type": "code",
   "execution_count": 3,
   "metadata": {},
   "outputs": [
    {
     "name": "stdout",
     "output_type": "stream",
     "text": [
      "輸入的數值是:20,平方值是400\n",
      "輸入的數值是:20,立方值是8000\n"
     ]
    }
   ],
   "source": [
    "a = eval (input(\"請輸入任何數:\"))\n",
    "\n",
    "print(f\"輸入的數值是:{a},平方值是{a ** 2}\")\n",
    "\n",
    "print(f\"輸入的數值是:{a},立方值是{a ** 3}\")\n"
   ]
  },
  {
   "cell_type": "markdown",
   "metadata": {},
   "source": []
  },
  {
   "cell_type": "code",
   "execution_count": 10,
   "metadata": {},
   "outputs": [
    {
     "name": "stdout",
     "output_type": "stream",
     "text": [
      "34.5+24.8+56.9 三數相加總值為:116.2\n"
     ]
    }
   ],
   "source": [
    "n1 = eval (input(\"請輸入第一個數\"))\n",
    "n2 = eval (input(\"請輸入第二個數\"))\n",
    "n3 = eval (input(\"請輸入第三個數\"))\n",
    "total = n1 + n2 +n3\n",
    "print(f\"{n1}+{n2}+{n3} 三數相加總值為:{round(total,ndigits=2)}\")\n"
   ]
  },
  {
   "cell_type": "markdown",
   "metadata": {},
   "source": [
    "##複合指定運算子設計程式"
   ]
  },
  {
   "cell_type": "code",
   "execution_count": 19,
   "metadata": {},
   "outputs": [
    {
     "name": "stdout",
     "output_type": "stream",
     "text": [
      "第一個數=34.5\n",
      "第二個數=24.8\n",
      "第三個數=56.9\n",
      "三個數加總=116.2\n"
     ]
    }
   ],
   "source": [
    "total = 0\n",
    "n = eval (input(\"請輸入第一個數\"))\n",
    "total += n\n",
    "print(f\"第一個數={n}\")\n",
    "\n",
    "n = eval (input(\"請輸入第二個數\"))\n",
    "total += n\n",
    "print(f\"第二個數={n}\")\n",
    "\n",
    "n = eval (input(\"請輸入第三個數\"))\n",
    "total += n\n",
    "print(f\"第三個數={n}\")\n",
    "\n",
    "print(f\"三個數加總={round(total,ndigits=2)}\" )"
   ]
  },
  {
   "cell_type": "markdown",
   "metadata": {},
   "source": [
    "##\n",
    "讓使用者輸入直角三角形的對邊\n",
    "讓使用者輸入直角三角形的對邊\n",
    "計算角度\n",
    "公式:\n",
    "sin(x) = 對邊/斜邊\n",
    "x是radian(弧度)"
   ]
  },
  {
   "cell_type": "code",
   "execution_count": 1,
   "metadata": {},
   "outputs": [
    {
     "name": "stdout",
     "output_type": "stream",
     "text": [
      "角度為30.0\n"
     ]
    }
   ],
   "source": [
    "import math\n",
    "side = eval(input(\"請輸入對邊\"))\n",
    "ano_side = eval(input(\"請輸入斜邊:\"))\n",
    "\n",
    "radian = math.asin(side / ano_side)\n",
    "degree = round(math.degrees(radian),ndigits=2)\n",
    "print (f\"角度為{degree}\")"
   ]
  },
  {
   "cell_type": "markdown",
   "metadata": {},
   "source": [
    "回家作業\n",
    "讓使用者輸入梯形的上底、下底及高，程式會計算梯形的面積(上底加下底乘以高除以2)"
   ]
  },
  {
   "cell_type": "code",
   "execution_count": 15,
   "metadata": {},
   "outputs": [
    {
     "name": "stdout",
     "output_type": "stream",
     "text": [
      "梯形的上底2.2公分,下底3.2,高3\n",
      "梯形的面積為8.1平方公分\n"
     ]
    }
   ],
   "source": [
    "a1 = eval (input(\"輸入梯形的上底\"))\n",
    "a2 = eval (input(\"輸入梯形的下底\"))\n",
    "a3 = eval (input(\"輸入梯形的高\"))\n",
    "total = (a1 + a2) * a3 / 2\n",
    "print(f\"梯形的上底{a1}公分,下底{a2},高{a3}\")\n",
    "print(f\"梯形的面積為{round(total,ndigits=2)}平方公分\")"
   ]
  },
  {
   "cell_type": "code",
   "execution_count": null,
   "metadata": {},
   "outputs": [],
   "source": []
  }
 ],
 "metadata": {
  "kernelspec": {
   "display_name": "Python 3",
   "language": "python",
   "name": "python3"
  },
  "language_info": {
   "codemirror_mode": {
    "name": "ipython",
    "version": 3
   },
   "file_extension": ".py",
   "mimetype": "text/x-python",
   "name": "python",
   "nbconvert_exporter": "python",
   "pygments_lexer": "ipython3",
   "version": "3.10.14"
  }
 },
 "nbformat": 4,
 "nbformat_minor": 2
}
