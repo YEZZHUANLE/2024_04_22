{
 "cells": [
  {
   "cell_type": "code",
   "execution_count": 61,
   "metadata": {},
   "outputs": [
    {
     "name": "stdout",
     "output_type": "stream",
     "text": [
      "first_name='Jone' last_name='Simth' age=20\n",
      "Jone\n",
      "Simth\n",
      "20\n"
     ]
    }
   ],
   "source": [
    "from pydantic import BaseModel\n",
    "\n",
    "class Person(BaseModel):\n",
    "    #field(欄位)一定要有 type hint\n",
    "    first_name:str\n",
    "    last_name:str\n",
    "    age:int\n",
    "\n",
    "p = Person(first_name=\"Jone\",last_name=\"Simth\",age=20)\n",
    "\n",
    "print(p)\n",
    "print(p.first_name)\n",
    "print(p.last_name)\n",
    "print(p.age)\n"
   ]
  },
  {
   "cell_type": "markdown",
   "metadata": {},
   "source": [
    "##data class做不到的\n",
    "### 驗證資料"
   ]
  },
  {
   "cell_type": "code",
   "execution_count": 62,
   "metadata": {},
   "outputs": [
    {
     "name": "stdout",
     "output_type": "stream",
     "text": [
      "first_name='Jone' last_name='Simth' age=20\n"
     ]
    }
   ],
   "source": [
    "\n",
    "p1 = Person(first_name=\"Jone\",last_name=\"Simth\",age=\"20\") #自動轉換型別\n",
    "print(p1)"
   ]
  },
  {
   "cell_type": "code",
   "execution_count": 63,
   "metadata": {},
   "outputs": [
    {
     "name": "stdout",
     "output_type": "stream",
     "text": [
      "1 validation error for Person\n",
      "age\n",
      "  Input should be a valid integer, unable to parse string as an integer [type=int_parsing, input_value='abc', input_type=str]\n",
      "    For further information visit https://errors.pydantic.dev/2.7/v/int_parsing\n"
     ]
    }
   ],
   "source": [
    "try:\n",
    "\n",
    "    p2 = Person(first_name=\"Jone\",last_name=\"Simth\",age=\"abc\") #自動轉換型別\n",
    "    print(p2)\n",
    "except Exception as error:\n",
    "    print(error)"
   ]
  },
  {
   "cell_type": "markdown",
   "metadata": {},
   "source": [
    "## 可以將純文字轉乘pydantic實體\n",
    "- model_validate_json()"
   ]
  },
  {
   "cell_type": "code",
   "execution_count": 31,
   "metadata": {},
   "outputs": [
    {
     "name": "stdout",
     "output_type": "stream",
     "text": [
      "first_name='john' last_name='Smith' age=0 lucky_numbers=[]\n"
     ]
    }
   ],
   "source": [
    "class Person(BaseModel):\n",
    "    #field(欄位)一定要有 type hint\n",
    "    first_name:str  #一定要有資料\n",
    "    last_name:str   #一定要有資料\n",
    "    age:int = 0 #有預設的值\n",
    "    lucky_numbers:list[int] = []\n",
    "\n",
    "data_json='''\n",
    "{\n",
    "    \"first_name\":\"john\",\n",
    "    \"last_name\":\"Smith\"\n",
    "}\n",
    "'''\n",
    "p4 = Person.model_validate_json(data_json)\n",
    "print(p4)\n"
   ]
  },
  {
   "cell_type": "code",
   "execution_count": 60,
   "metadata": {},
   "outputs": [
    {
     "name": "stdout",
     "output_type": "stream",
     "text": [
      "first_name='john' last_name='Smith' age=0 lucky_numbers=[1, 2, 3, 4, 5]\n"
     ]
    }
   ],
   "source": [
    "class Person(BaseModel):\n",
    "    #field(欄位)一定要有 type hint\n",
    "    first_name:str  #一定要有資料\n",
    "    last_name:str   #一定要有資料\n",
    "    age:int = 0 #有預設的值\n",
    "    lucky_numbers:list[int] = []\n",
    "\n",
    "data_json='''\n",
    "{\n",
    "    \"first_name\":\"john\",\n",
    "    \"last_name\":\"Smith\",\n",
    "    \"lucky_numbers\":[1,2,3,4,\"5\"]\n",
    "}\n",
    "'''\n",
    "p4 = Person.model_validate_json(data_json)\n",
    "print(p4)\n"
   ]
  },
  {
   "cell_type": "code",
   "execution_count": 68,
   "metadata": {},
   "outputs": [
    {
     "name": "stdout",
     "output_type": "stream",
     "text": [
      "id_=100 first_name='john' last_name='Smith' age=42\n"
     ]
    }
   ],
   "source": [
    "data_json='''\n",
    "{\n",
    "    \"id\":100,\n",
    "    \"Frist Name\":\"john\",\n",
    "    \"LASTNAME\":\"Smith\",\n",
    "    \"age in years\":42\n",
    "}\n",
    "'''\n",
    "\n",
    "from pydantic import BaseModel,Field\n",
    "\n",
    "class Person(BaseModel):\n",
    "    id_:int = Field(alias=\"id\")\n",
    "    first_name:str = Field(alias=\"Frist Name\")\n",
    "    last_name:str = Field(alias=\"LASTNAME\")\n",
    "    age:int = Field(alias=\"age in years\",default=0)\n",
    "\n",
    "p1 = Person.model_validate_json(data_json)\n",
    "print(p1)\n"
   ]
  },
  {
   "cell_type": "code",
   "execution_count": null,
   "metadata": {},
   "outputs": [],
   "source": [
    "data:str = '''\n",
    "{\n",
    "    \"fristName\":\"Arthur\",\n",
    "    \"lastName\" :\"Clarke\",\n",
    "\n",
    "}\n"
   ]
  }
 ],
 "metadata": {
  "kernelspec": {
   "display_name": "Python 3",
   "language": "python",
   "name": "python3"
  },
  "language_info": {
   "codemirror_mode": {
    "name": "ipython",
    "version": 3
   },
   "file_extension": ".py",
   "mimetype": "text/x-python",
   "name": "python",
   "nbconvert_exporter": "python",
   "pygments_lexer": "ipython3",
   "version": "3.10.14"
  }
 },
 "nbformat": 4,
 "nbformat_minor": 2
}
