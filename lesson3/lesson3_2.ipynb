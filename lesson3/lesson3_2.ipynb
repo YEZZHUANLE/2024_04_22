{
 "cells": [
  {
   "cell_type": "markdown",
   "metadata": {},
   "source": [
    "## 輸出->print()\n",
    "## 輸入->input()"
   ]
  },
  {
   "cell_type": "code",
   "execution_count": 11,
   "metadata": {},
   "outputs": [
    {
     "name": "stdout",
     "output_type": "stream",
     "text": [
      "寬:88.8公分,高:90.9公分,面積:8071.92公分\n"
     ]
    }
   ],
   "source": [
    "width:float = float(input('請輸入矩形寬'))\n",
    "height:float = float(input('請輸入矩形高'))\n",
    "area:float = float(width*height)\n",
    "print(f'寬:{width}公分,高:{height}公分,面積:{area}公分')"
   ]
  },
  {
   "cell_type": "code",
   "execution_count": 21,
   "metadata": {},
   "outputs": [
    {
     "name": "stdout",
     "output_type": "stream",
     "text": [
      "計算圓面積\n",
      "圓半徑:54.0,圓面積:9160.88\n",
      "圓半徑:54.0,圓面積:9160.8840216\n",
      "圓半徑:54.0,圓面積:9160.88\n"
     ]
    }
   ],
   "source": [
    "print(\"計算圓面積\")\n",
    "r:float = float(input(\"請輸入半徑:\"))\n",
    "PI:float = float(3.1415926)\n",
    "area:float = float(PI * r ** 2)\n",
    "print(f\"圓半徑:{r},圓面積:{PI* r ** 2:.2f}\")\n",
    "print(f\"圓半徑:{r},圓面積:{area}\")\n",
    "print(f\"圓半徑:{r},圓面積:{area:.2f}\")"
   ]
  },
  {
   "cell_type": "code",
   "execution_count": 22,
   "metadata": {},
   "outputs": [
    {
     "name": "stdout",
     "output_type": "stream",
     "text": [
      "計算圓面積\n",
      "圓半徑:5.0,圓面積:78.54\n",
      "圓半徑:5.0,圓面積:78.53981633974483\n",
      "圓半徑:5.0,圓面積:78.54\n"
     ]
    }
   ],
   "source": [
    "#計算圓面積\n",
    "import math\n",
    "print(\"計算圓面積\")\n",
    "r:float = float(input(\"請輸入半徑:\"))\n",
    "PI:float = float(3.1415926)\n",
    "area:float = math.pi * r ** 2\n",
    "print(f\"圓半徑:{r},圓面積:{math.pi* r ** 2:.2f}\")\n",
    "print(f\"圓半徑:{r},圓面積:{area}\")\n",
    "print(f\"圓半徑:{r},圓面積:{area:.2f}\")"
   ]
  }
 ],
 "metadata": {
  "kernelspec": {
   "display_name": "Python 3",
   "language": "python",
   "name": "python3"
  },
  "language_info": {
   "codemirror_mode": {
    "name": "ipython",
    "version": 3
   },
   "file_extension": ".py",
   "mimetype": "text/x-python",
   "name": "python",
   "nbconvert_exporter": "python",
   "pygments_lexer": "ipython3",
   "version": "3.10.14"
  }
 },
 "nbformat": 4,
 "nbformat_minor": 2
}
