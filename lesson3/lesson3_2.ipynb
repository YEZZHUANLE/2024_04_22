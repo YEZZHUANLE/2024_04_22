{
 "cells": [
  {
   "cell_type": "markdown",
   "metadata": {},
   "source": [
    "## 輸出->print()\n",
    "## 輸入->input()"
   ]
  },
  {
   "cell_type": "code",
   "execution_count": 1,
   "metadata": {},
   "outputs": [
    {
     "ename": "ValueError",
     "evalue": "could not convert string to float: ''",
     "output_type": "error",
     "traceback": [
      "\u001b[0;31m---------------------------------------------------------------------------\u001b[0m",
      "\u001b[0;31mValueError\u001b[0m                                Traceback (most recent call last)",
      "Cell \u001b[0;32mIn[1], line 1\u001b[0m\n\u001b[0;32m----> 1\u001b[0m width:\u001b[38;5;28mfloat\u001b[39m \u001b[38;5;241m=\u001b[39m \u001b[38;5;28;43mfloat\u001b[39;49m\u001b[43m(\u001b[49m\u001b[38;5;28;43minput\u001b[39;49m\u001b[43m(\u001b[49m\u001b[38;5;124;43m'\u001b[39;49m\u001b[38;5;124;43m請輸入矩形寬\u001b[39;49m\u001b[38;5;124;43m'\u001b[39;49m\u001b[43m)\u001b[49m\u001b[43m)\u001b[49m\n\u001b[1;32m      2\u001b[0m height:\u001b[38;5;28mfloat\u001b[39m \u001b[38;5;241m=\u001b[39m \u001b[38;5;28mfloat\u001b[39m(\u001b[38;5;28minput\u001b[39m(\u001b[38;5;124m'\u001b[39m\u001b[38;5;124m請輸入矩形高\u001b[39m\u001b[38;5;124m'\u001b[39m))\n\u001b[1;32m      3\u001b[0m area:\u001b[38;5;28mfloat\u001b[39m \u001b[38;5;241m=\u001b[39m \u001b[38;5;28mfloat\u001b[39m(width\u001b[38;5;241m*\u001b[39mheight)\n",
      "\u001b[0;31mValueError\u001b[0m: could not convert string to float: ''"
     ]
    }
   ],
   "source": [
    "width:float = float(input('請輸入矩形寬'))\n",
    "height:float = float(input('請輸入矩形高'))\n",
    "area:float = float(width*height)\n",
    "print(f'寬:{width}公分,高:{height}公分,面積:{area}公分')"
   ]
  },
  {
   "cell_type": "code",
   "execution_count": null,
   "metadata": {},
   "outputs": [
    {
     "name": "stdout",
     "output_type": "stream",
     "text": [
      "計算圓面積\n",
      "圓半徑:54.0,圓面積:9160.88\n",
      "圓半徑:54.0,圓面積:9160.8840216\n",
      "圓半徑:54.0,圓面積:9160.88\n"
     ]
    }
   ],
   "source": [
    "print(\"計算圓面積\")\n",
    "r:float = float(input(\"請輸入半徑:\"))\n",
    "PI:float = float(3.1415926)\n",
    "area:float = float(PI * r ** 2)\n",
    "print(f\"圓半徑:{r},圓面積:{PI* r ** 2:.2f}\")\n",
    "print(f\"圓半徑:{r},圓面積:{area}\")\n",
    "print(f\"圓半徑:{r},圓面積:{area:.2f}\")"
   ]
  },
  {
   "cell_type": "code",
   "execution_count": null,
   "metadata": {},
   "outputs": [
    {
     "name": "stdout",
     "output_type": "stream",
     "text": [
      "計算圓面積\n",
      "圓半徑:5.0,圓面積:78.54\n",
      "圓半徑:5.0,圓面積:78.53981633974483\n",
      "圓半徑:5.0,圓面積:78.54\n"
     ]
    }
   ],
   "source": [
    "#計算圓面積\n",
    "import math\n",
    "print(\"計算圓面積\")\n",
    "r:float = float(input(\"請輸入半徑:\"))\n",
    "PI:float = float(3.1415926)\n",
    "area:float = math.pi * r ** 2\n",
    "print(f\"圓半徑:{r},圓面積:{math.pi* r ** 2:.2f}\")\n",
    "print(f\"圓半徑:{r},圓面積:{area}\")\n",
    "print(f\"圓半徑:{r},圓面積:{area:.2f}\")"
   ]
  }
 ],
 "metadata": {
  "kernelspec": {
   "display_name": "Python 3",
   "language": "python",
   "name": "python3"
  },
  "language_info": {
   "codemirror_mode": {
    "name": "ipython",
    "version": 3
   },
   "file_extension": ".py",
   "mimetype": "text/x-python",
   "name": "python",
   "nbconvert_exporter": "python",
   "pygments_lexer": "ipython3",
   "version": "3.10.14"
  }
 },
 "nbformat": 4,
 "nbformat_minor": 2
}
