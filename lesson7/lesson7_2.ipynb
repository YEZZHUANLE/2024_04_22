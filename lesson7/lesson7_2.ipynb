{
 "cells": [
  {
   "cell_type": "code",
   "execution_count": null,
   "metadata": {},
   "outputs": [],
   "source": [
    "import pyinputplus as pyip\n",
    "money = 0\n",
    "num = 0\n",
    "while True:\n",
    "    num += 1\n",
    "    input_money=pyip.inputInt(f\"請輸入第{num}月存的金額:\")\n",
    "    print(input_money)\n",
    "    money += input_money\n",
    "    if money >=30000:\n",
    "        break\n",
    "\n",
    "print(f\"最後一次存的金額是:{input_money}\")\n",
    "\n",
    "print(f\"小名已經存了{num-1}個月,已經存了{money}元\")"
   ]
  },
  {
   "cell_type": "code",
   "execution_count": 1,
   "metadata": {},
   "outputs": [
    {
     "name": "stdout",
     "output_type": "stream",
     "text": [
      "不做事\n",
      "應用程式結束\n",
      "55的平方是3025\n",
      "應用程式結束\n",
      "23的平方是529\n",
      "應用程式結束\n",
      "輸入錯誤\n"
     ]
    }
   ],
   "source": [
    "while(True):\n",
    "    value = input(\"請輸入整數,輸入[q]離開:\")\n",
    "    if value =='q':\n",
    "        break\n",
    "    try:\n",
    "        valueInt = int(value)\n",
    "    except:\n",
    "        print(\"輸入錯誤\")\n",
    "        break\n",
    "    \n",
    "    if valueInt % 2 == 1:\n",
    "        print(f\"{valueInt}的平方是{valueInt ** 2}\")\n",
    "    else:\n",
    "        print(\"不做事\")\n",
    "\n",
    "    print(\"應用程式結束\")\n"
   ]
  }
 ],
 "metadata": {
  "kernelspec": {
   "display_name": "Python 3",
   "language": "python",
   "name": "python3"
  },
  "language_info": {
   "codemirror_mode": {
    "name": "ipython",
    "version": 3
   },
   "file_extension": ".py",
   "mimetype": "text/x-python",
   "name": "python",
   "nbconvert_exporter": "python",
   "pygments_lexer": "ipython3",
   "version": "3.10.14"
  }
 },
 "nbformat": 4,
 "nbformat_minor": 2
}
