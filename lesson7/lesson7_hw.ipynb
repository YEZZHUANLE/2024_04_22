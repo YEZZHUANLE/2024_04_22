{
 "cells": [
  {
   "cell_type": "code",
   "execution_count": 5,
   "metadata": {},
   "outputs": [
    {
     "name": "stdout",
     "output_type": "stream",
     "text": [
      "請輸入整數,求所有因數:輸入整數為90\n",
      "90的因數是\n",
      "1 2 3 5 6 9 10 15 18 30 45 90 "
     ]
    }
   ],
   "source": [
    "import pyinputplus as pyip\n",
    "factors=pyip.inputInt(\"請輸入整數,求所有因數:\");\n",
    "print(f\"輸入整數為{factors}\")\n",
    "print(f\"{factors}的因數是\")\n",
    "\n",
    "for i in range(1, factors+1):\n",
    "    if factors % i == 0:\n",
    "        print(i,end=' ')\n",
    "        \n",
    "\n"
   ]
  }
 ],
 "metadata": {
  "kernelspec": {
   "display_name": "Python 3",
   "language": "python",
   "name": "python3"
  },
  "language_info": {
   "codemirror_mode": {
    "name": "ipython",
    "version": 3
   },
   "file_extension": ".py",
   "mimetype": "text/x-python",
   "name": "python",
   "nbconvert_exporter": "python",
   "pygments_lexer": "ipython3",
   "version": "3.10.14"
  }
 },
 "nbformat": 4,
 "nbformat_minor": 2
}
