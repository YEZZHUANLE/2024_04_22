{
 "cells": [
  {
   "cell_type": "code",
   "execution_count": 1,
   "metadata": {},
   "outputs": [
    {
     "name": "stdout",
     "output_type": "stream",
     "text": [
      "輸入的分數不可以超過300\n"
     ]
    }
   ],
   "source": [
    "try:\n",
    "    score:int|float = int(input(\"請輸入學生分數(最高300分\"))\n",
    "    if score <= 300:\n",
    "        is_add:str = input(\"學生是否符合加分條件?(y,n)\")\n",
    "        if is_add =='y':\n",
    "            score *= 1.05\n",
    "        if score > 300:\n",
    "            score = 300\n",
    "        print(f'學生總分是{round(score)}')\n",
    "    else:\n",
    "        print(\"輸入的分數不可以超過300\")\n",
    "except Exception as e:\n",
    "        print(f\"發生錯誤:{e}\")"
   ]
  },
  {
   "cell_type": "code",
   "execution_count": 3,
   "metadata": {},
   "outputs": [
    {
     "name": "stdout",
     "output_type": "stream",
     "text": [
      "edik,你的BMI:20.2\n",
      "體重正常\n"
     ]
    }
   ],
   "source": [
    "try:\n",
    "    name = str(input(\"請輸入姓名\"))\n",
    "    height:int|float = int(input(\"請輸入身高(cm)\"))\n",
    "    weight:int|float = int(input(\"請輸入體重(kg)\"))\n",
    "\n",
    "    bmi = weight / ((height/100) **2)\n",
    "    print(f\"{name},你的BMI:{round(bmi,ndigits=1)}\")\n",
    "    if bmi<18.5:\n",
    "       print(\"體重過輕\")\n",
    "    elif 18.5<=bmi<24:\n",
    "       print(\"體重正常\")\n",
    "    elif 24<=bmi<27:\n",
    "       print(\"體重過重\")\n",
    "    elif bmi>27:\n",
    "       print(\"體重肥胖\")\n",
    "    \n",
    "except Exception as e:\n",
    "    print(f\"格式錯誤:{e}\")"
   ]
  },
  {
   "cell_type": "code",
   "execution_count": 16,
   "metadata": {},
   "outputs": [
    {
     "name": "stdout",
     "output_type": "stream",
     "text": [
      "錯誤:體重必須大於40同時小於170\n"
     ]
    }
   ],
   "source": [
    "try:\n",
    "    name = str(input(\"請輸入姓名\"))\n",
    "    height:int|float = int(input(\"請輸入身高(cm)\"))\n",
    "    if height <120 or height >230:\n",
    "       raise Exception(\"身高必須大於120同時小於230\")\n",
    "   \n",
    "    weight:int|float = int(input(\"請輸入體重(kg)\"))\n",
    "    if weight <40 or weight >170:\n",
    "       raise Exception(\"體重必須大於40同時小於170\")\n",
    "\n",
    "    bmi = weight / ((height/100) **2)\n",
    "    if bmi<18.5:\n",
    "       a=(\"體重過輕\")\n",
    "    if 18.5<=bmi<24:\n",
    "       a=(\"體重正常\")\n",
    "    if 24<=bmi<27:\n",
    "       a=(\"體重過重\")\n",
    "    if bmi>27:\n",
    "       a=(\"體重肥胖\")\n",
    "    print(f\"{name}\")\n",
    "    print(f\"你的身高:{height}\")\n",
    "    print(f\"你的體重:{weight}\")\n",
    "    print(f\"你的BMI:{round(bmi,ndigits=1)}\")\n",
    "    print(f\"檢測結果:{a}\")\n",
    "except SyntaxError as e:\n",
    "    print(f\"格式錯誤:{e}\")\n",
    "except Exception as e:\n",
    "   print(f\"錯誤:{e}\")"
   ]
  },
  {
   "cell_type": "code",
   "execution_count": 4,
   "metadata": {},
   "outputs": [
    {
     "data": {
      "text/plain": [
       "True"
      ]
     },
     "execution_count": 4,
     "metadata": {},
     "output_type": "execute_result"
    }
   ],
   "source": [
    "not True\n",
    "not False"
   ]
  },
  {
   "cell_type": "code",
   "execution_count": 5,
   "metadata": {},
   "outputs": [],
   "source": [
    "height = float(input(\"請輸入身高(cm)\"))\n",
    "if height>=120:\n",
    "    if height<=230:\n",
    "        print(\"身高正常\")"
   ]
  },
  {
   "cell_type": "code",
   "execution_count": null,
   "metadata": {},
   "outputs": [],
   "source": [
    "height = float(input(\"請輸入身高(cm)\"))\n",
    "if height>=120 and height<=230:\n",
    "        print(\"身高正常\")"
   ]
  },
  {
   "cell_type": "code",
   "execution_count": 8,
   "metadata": {},
   "outputs": [
    {
     "name": "stdout",
     "output_type": "stream",
     "text": [
      "身高不正常\n"
     ]
    }
   ],
   "source": [
    "height = float(input(\"請輸入身高(cm)\"))\n",
    "if height<120 or height>230:\n",
    "        print(\"身高不正常\")"
   ]
  },
  {
   "cell_type": "code",
   "execution_count": null,
   "metadata": {},
   "outputs": [],
   "source": []
  }
 ],
 "metadata": {
  "kernelspec": {
   "display_name": "Python 3",
   "language": "python",
   "name": "python3"
  },
  "language_info": {
   "codemirror_mode": {
    "name": "ipython",
    "version": 3
   },
   "file_extension": ".py",
   "mimetype": "text/x-python",
   "name": "python",
   "nbconvert_exporter": "python",
   "pygments_lexer": "ipython3",
   "version": "3.10.14"
  }
 },
 "nbformat": 4,
 "nbformat_minor": 2
}
