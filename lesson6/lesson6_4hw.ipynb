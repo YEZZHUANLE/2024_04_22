{
 "cells": [
  {
   "cell_type": "code",
   "execution_count": 12,
   "metadata": {},
   "outputs": [
    {
     "name": "stdout",
     "output_type": "stream",
     "text": [
      "JERRY,你的BMI:21.7\n",
      "你的體重:正常\n"
     ]
    }
   ],
   "source": [
    "    \n",
    "try:\n",
    "        name = str(input(\"請輸入姓名\"))\n",
    "        height:int|float = int(input(\"請輸入身高(cm)\"))\n",
    "        if height <120 or height >230:\n",
    "            raise Exception(\"身高必須大於120同時小於230\")\n",
    "    \n",
    "        weight:int|float = int(input(\"請輸入體重(kg)\"))\n",
    "        if weight <40 or weight >170:\n",
    "            raise Exception(\"體重必須大於40同時小於170\")\n",
    "\n",
    "        bmi = weight / ((height/100) **2)\n",
    "        if bmi<18.5:\n",
    "            a=(\"過輕\")\n",
    "        elif 18.5<=bmi<24:\n",
    "            a=(\"正常\")\n",
    "        elif 24<=bmi<27:\n",
    "            a=(\"過重\")\n",
    "        elif 27<=bmi<30:\n",
    "            a=(\"輕度肥胖\")\n",
    "        elif 30<=bmi<35:\n",
    "            a=(\"中度肥胖\")\n",
    "        elif 35>=bmi:\n",
    "            a=(\"重度肥胖\")\n",
    "        print(f\"{name},你的BMI:{round(bmi,ndigits=1)}\")\n",
    "        print(f\"你的體重:{a}\")\n",
    "except SyntaxError as e:\n",
    "        print(f\"格式錯誤:{e}\")\n",
    "except Exception as e:\n",
    "        print(f\"錯誤:{e}\")"
   ]
  }
 ],
 "metadata": {
  "kernelspec": {
   "display_name": "Python 3",
   "language": "python",
   "name": "python3"
  },
  "language_info": {
   "codemirror_mode": {
    "name": "ipython",
    "version": 3
   },
   "file_extension": ".py",
   "mimetype": "text/x-python",
   "name": "python",
   "nbconvert_exporter": "python",
   "pygments_lexer": "ipython3",
   "version": "3.10.14"
  }
 },
 "nbformat": 4,
 "nbformat_minor": 2
}
