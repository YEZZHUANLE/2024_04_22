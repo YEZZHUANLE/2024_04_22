{
 "cells": [
  {
   "cell_type": "code",
   "execution_count": 5,
   "metadata": {},
   "outputs": [
    {
     "name": "stdout",
     "output_type": "stream",
     "text": [
      "甲\n"
     ]
    }
   ],
   "source": [
    "scores = int (input (\"請輸入學生分數(最高300分)\"))\n",
    "if scores >=220:\n",
    "    print(\"優\")\n",
    "elif scores >=180:\n",
    "        print(\"甲\")\n",
    "else:\n",
    "        print(\"不及格\")"
   ]
  },
  {
   "cell_type": "code",
   "execution_count": 12,
   "metadata": {},
   "outputs": [
    {
     "name": "stdout",
     "output_type": "stream",
     "text": [
      "丙\n"
     ]
    }
   ],
   "source": [
    "scores = int(input(\"請輸入學生分數:\"))\n",
    "\n",
    "if scores<60:\n",
    "    grade = '丁'\n",
    "elif scores<70:\n",
    "    grade = '丙'\n",
    "elif scores<80:\n",
    "    grade = '乙'\n",
    "elif scores<90:\n",
    "    grade ='甲'\n",
    "else :\n",
    "    grade = '優'\n",
    "\n",
    "print(grade)\n",
    "    \n"
   ]
  },
  {
   "cell_type": "code",
   "execution_count": 16,
   "metadata": {},
   "outputs": [
    {
     "name": "stdout",
     "output_type": "stream",
     "text": [
      "請輸入學生分數(最高300分)'125e' is not an integer.\n",
      "請輸入學生分數(最高300分)Number must be at maximum 300.\n",
      "請輸入學生分數(最高300分)150\n"
     ]
    }
   ],
   "source": [
    "import pyinputplus as pyip\n",
    "\n",
    "score = pyip.inputInt(\"請輸入學生分數(最高300分)\",min=0,max=300)\n",
    "\n",
    "print(score)"
   ]
  }
 ],
 "metadata": {
  "kernelspec": {
   "display_name": "Python 3",
   "language": "python",
   "name": "python3"
  },
  "language_info": {
   "codemirror_mode": {
    "name": "ipython",
    "version": 3
   },
   "file_extension": ".py",
   "mimetype": "text/x-python",
   "name": "python",
   "nbconvert_exporter": "python",
   "pygments_lexer": "ipython3",
   "version": "3.10.14"
  }
 },
 "nbformat": 4,
 "nbformat_minor": 2
}
